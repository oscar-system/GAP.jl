{
 "cells": [
  {
   "cell_type": "markdown",
   "metadata": {},
   "source": [
    "# Positivity of real parts of cyclotomics\n",
    "\n",
    "GAP does not provide a function for checking whether an element from a cyclotomic field\n",
    "has a positive or negative real part.\n",
    "\n",
    "Nemo's Arb package provides arithmetic operations with real and complex numbers,\n",
    "which allows one to decide the positivity/negativity of a nonzero real number.\n",
    "\n",
    "We can access this functionality from GAP via JuliaInterface.\n",
    "The idea is to convert the real part of a cyclotomic integer\n",
    "from GAP to the corresponding element of an Arb field,\n",
    "and then to ask whether this element is guaranteed to be positive or negative.\n",
    "If neither of these two questions can be answered with `true`\n",
    "then one creates the element anew with doubled precision,\n",
    "and asks the questions again, until a `true` answer is reached.\n",
    "\n",
    "The implementation of this idea requires two small Julia functions,\n",
    "one for creating a field element from a coefficient vector and\n",
    "one (in the spirit of Arb) for asking the questions in a loop\n",
    "where the precision gets increased in each step,\n",
    "and a small GAP function `IsPositiveRealPartCyclotomic`\n",
    "that converts the coefficient vector to Julia and then calls the second Julia function."
   ]
  },
  {
   "cell_type": "code",
   "execution_count": 2,
   "metadata": {},
   "outputs": [],
   "source": [
    "LoadPackage( \"JuliaExperimental\" );;\n",
    "r5:= Sqrt( 5 );;"
   ]
  },
  {
   "cell_type": "code",
   "execution_count": 3,
   "metadata": {},
   "outputs": [
    {
     "data": {
      "text/plain": [
       "true"
      ]
     },
     "execution_count": 3,
     "metadata": {
      "text/plain": ""
     },
     "output_type": "execute_result"
    }
   ],
   "source": [
    "IsPositiveRealPartCyclotomic( r5 - 22/10 );"
   ]
  },
  {
   "cell_type": "code",
   "execution_count": 4,
   "metadata": {},
   "outputs": [
    {
     "data": {
      "text/plain": [
       "false"
      ]
     },
     "execution_count": 4,
     "metadata": {
      "text/plain": ""
     },
     "output_type": "execute_result"
    }
   ],
   "source": [
    "IsPositiveRealPartCyclotomic( r5 - 23/10 );"
   ]
  },
  {
   "cell_type": "markdown",
   "metadata": {},
   "source": [
    "Using GAP's global option `ShowPrecision`, we can show the precision (in bits)\n",
    "that was needed for the decision. (The initial precision is 16 bits.)"
   ]
  },
  {
   "cell_type": "code",
   "execution_count": 5,
   "metadata": {},
   "outputs": [
    {
     "name": "stdout",
     "output_type": "stream",
     "text": [
      "#I  precision needed: 16\n"
     ]
    },
    {
     "data": {
      "text/plain": [
       "true"
      ]
     },
     "execution_count": 5,
     "metadata": {
      "text/plain": ""
     },
     "output_type": "execute_result"
    }
   ],
   "source": [
    "IsPositiveRealPartCyclotomic( r5 - 22/10 : ShowPrecision );"
   ]
  },
  {
   "cell_type": "code",
   "execution_count": 6,
   "metadata": {},
   "outputs": [
    {
     "name": "stdout",
     "output_type": "stream",
     "text": [
      "#I  precision needed: 16\n"
     ]
    },
    {
     "data": {
      "text/plain": [
       "false"
      ]
     },
     "execution_count": 6,
     "metadata": {
      "text/plain": ""
     },
     "output_type": "execute_result"
    }
   ],
   "source": [
    "IsPositiveRealPartCyclotomic( r5 - 23/10 : ShowPrecision );"
   ]
  },
  {
   "cell_type": "code",
   "execution_count": 7,
   "metadata": {},
   "outputs": [
    {
     "name": "stdout",
     "output_type": "stream",
     "text": [
      "#I  precision needed: 16\n"
     ]
    },
    {
     "data": {
      "text/plain": [
       "true"
      ]
     },
     "execution_count": 7,
     "metadata": {
      "text/plain": ""
     },
     "output_type": "execute_result"
    }
   ],
   "source": [
    "IsPositiveRealPartCyclotomic( r5 - 223/100 : ShowPrecision );"
   ]
  },
  {
   "cell_type": "code",
   "execution_count": 8,
   "metadata": {},
   "outputs": [
    {
     "name": "stdout",
     "output_type": "stream",
     "text": [
      "#I  precision needed: 16\n"
     ]
    },
    {
     "data": {
      "text/plain": [
       "false"
      ]
     },
     "execution_count": 8,
     "metadata": {
      "text/plain": ""
     },
     "output_type": "execute_result"
    }
   ],
   "source": [
    "IsPositiveRealPartCyclotomic( r5 - 224/100 : ShowPrecision );"
   ]
  },
  {
   "cell_type": "code",
   "execution_count": 9,
   "metadata": {},
   "outputs": [
    {
     "name": "stdout",
     "output_type": "stream",
     "text": [
      "#I  precision needed: 32\n"
     ]
    },
    {
     "data": {
      "text/plain": [
       "true"
      ]
     },
     "execution_count": 9,
     "metadata": {
      "text/plain": ""
     },
     "output_type": "execute_result"
    }
   ],
   "source": [
    "IsPositiveRealPartCyclotomic( r5 - 2236/1000 : ShowPrecision );"
   ]
  },
  {
   "cell_type": "code",
   "execution_count": 10,
   "metadata": {},
   "outputs": [
    {
     "name": "stdout",
     "output_type": "stream",
     "text": [
      "#I  precision needed: 16\n"
     ]
    },
    {
     "data": {
      "text/plain": [
       "false"
      ]
     },
     "execution_count": 10,
     "metadata": {
      "text/plain": ""
     },
     "output_type": "execute_result"
    }
   ],
   "source": [
    "IsPositiveRealPartCyclotomic( r5 - 2237/1000 : ShowPrecision );"
   ]
  },
  {
   "cell_type": "code",
   "execution_count": 11,
   "metadata": {},
   "outputs": [
    {
     "name": "stdout",
     "output_type": "stream",
     "text": [
      "#I  precision needed: 64\n"
     ]
    },
    {
     "data": {
      "text/plain": [
       "true"
      ]
     },
     "execution_count": 11,
     "metadata": {
      "text/plain": ""
     },
     "output_type": "execute_result"
    }
   ],
   "source": [
    "IsPositiveRealPartCyclotomic( r5 - 2236067977499/1000000000000 : ShowPrecision );"
   ]
  },
  {
   "cell_type": "code",
   "execution_count": 12,
   "metadata": {},
   "outputs": [
    {
     "name": "stdout",
     "output_type": "stream",
     "text": [
      "#I  precision needed: 64\n"
     ]
    },
    {
     "data": {
      "text/plain": [
       "false"
      ]
     },
     "execution_count": 12,
     "metadata": {
      "text/plain": ""
     },
     "output_type": "execute_result"
    }
   ],
   "source": [
    "IsPositiveRealPartCyclotomic( r5 - 2236067977500/1000000000000 : ShowPrecision );"
   ]
  },
  {
   "cell_type": "markdown",
   "metadata": {},
   "source": [
    "In fact, a GAP implementation of the positivity check for cyclotomic numbers\n",
    "is available in the GAP package [FUtil](http://www.math.rwth-aachen.de/~Frank.Luebeck/gap/FUtil/index.html)\n",
    "by Frank Lübeck.\n",
    "This package is currently not distributed with GAP, therefore we cannot show its functionality here.\n",
    "\n",
    "Here is an example from this package."
   ]
  },
  {
   "cell_type": "code",
   "execution_count": 18,
   "metadata": {},
   "outputs": [
    {
     "name": "stdout",
     "output_type": "stream",
     "text": [
      "#I  precision needed: 256\n"
     ]
    },
    {
     "data": {
      "text/plain": [
       "false"
      ]
     },
     "execution_count": 18,
     "metadata": {
      "text/plain": ""
     },
     "output_type": "execute_result"
    }
   ],
   "source": [
    "a:= EY(5);;  b:= EY(7);;  c:= EY(11);;  d:= EY(12);;\n",
    "z:= [ -12230241886849032, -27721673763224765,\n",
    "      19808983844326917,   5079707604555803 ] * [ a, b, c, d ];;\n",
    "IsPositiveRealPartCyclotomic( z : ShowPrecision );"
   ]
  },
  {
   "cell_type": "markdown",
   "metadata": {},
   "source": [
    "Comparing the runtimes of the two implementations is not easy.\n",
    "On the one hand, the code based on Arb runs substantially faster than the code from the GAP package\n",
    "-which is not surprising already because FUtil uses interpreted GAP code.\n",
    "On the other hand, FUtil caches the approximations of roots of unity once they have been computed,\n",
    "and this makes FUtils faster in the case of repeated positivity checks for elements\n",
    "from the same cyclotomic field."
   ]
  },
  {
   "cell_type": "code",
   "execution_count": 19,
   "metadata": {},
   "outputs": [
    {
     "data": {
      "text/plain": [
       "9"
      ]
     },
     "execution_count": 19,
     "metadata": {
      "text/plain": ""
     },
     "output_type": "execute_result"
    }
   ],
   "source": [
    "time;"
   ]
  }
 ],
 "metadata": {
  "kernelspec": {
   "display_name": "GAP 4 (native)",
   "language": "gap",
   "name": "gap-native"
  },
  "language_info": {
   "codemirror_mode": "gap",
   "file_extension": ".g",
   "mimetype": "text/x-gap",
   "name": "GAP (native)",
   "nbconvert_exporter": "",
   "pygments_lexer": "gap",
   "version": "4.dev"
  }
 },
 "nbformat": 4,
 "nbformat_minor": 2
}
